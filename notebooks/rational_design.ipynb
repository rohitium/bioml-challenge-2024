{
 "cells": [
  {
   "cell_type": "markdown",
   "metadata": {},
   "source": [
    "# Design binders using rational_protein_design package"
   ]
  },
  {
   "cell_type": "code",
   "execution_count": 1,
   "metadata": {},
   "outputs": [
    {
     "name": "stdout",
     "output_type": "stream",
     "text": [
      "Requirement already satisfied: rational_protein_design in /Users/rohitpro/miniconda3/envs/bioembeddings_env/lib/python3.8/site-packages (0.1.0)\n",
      "Requirement already satisfied: biopython>=1.79 in /Users/rohitpro/miniconda3/envs/bioembeddings_env/lib/python3.8/site-packages (from rational_protein_design) (1.82)\n",
      "Requirement already satisfied: numpy>=1.21.0 in /Users/rohitpro/miniconda3/envs/bioembeddings_env/lib/python3.8/site-packages (from rational_protein_design) (1.24.3)\n",
      "Requirement already satisfied: setuptools>=49.6.0 in /Users/rohitpro/miniconda3/envs/bioembeddings_env/lib/python3.8/site-packages (from rational_protein_design) (75.1.0)\n",
      "Note: you may need to restart the kernel to use updated packages.\n"
     ]
    }
   ],
   "source": [
    "%pip install rational_protein_design"
   ]
  },
  {
   "cell_type": "code",
   "execution_count": 2,
   "metadata": {},
   "outputs": [],
   "source": [
    "from rational_protein_design import BinderDesigner"
   ]
  },
  {
   "cell_type": "code",
   "execution_count": 3,
   "metadata": {},
   "outputs": [],
   "source": [
    "designer = BinderDesigner(\n",
    "    pdb_file=\"../data/structures/6vja.pdb\",\n",
    "    chain_id=\"D\",\n",
    "    target_residues_range=(166, 183),\n",
    "    neighbor_chain_id=\"I\",\n",
    "    N=80,\n",
    "    num_seq=10\n",
    ")\n"
   ]
  },
  {
   "cell_type": "code",
   "execution_count": 4,
   "metadata": {},
   "outputs": [
    {
     "name": "stdout",
     "output_type": "stream",
     "text": [
      "10 unique sequences saved to ../results/predictions/6vja_example_fasta_file.fasta\n"
     ]
    }
   ],
   "source": [
    "designer.design_binder(\"../results/predictions/6vja_example_fasta_file.fasta\")\n"
   ]
  },
  {
   "cell_type": "code",
   "execution_count": 5,
   "metadata": {},
   "outputs": [
    {
     "name": "stdout",
     "output_type": "stream",
     "text": [
      "777 unique sequences saved to ../results/predictions/6vja_chainI_rational_designs.fasta\n",
      "377 unique sequences saved to ../results/predictions/6y92_chainD_rational_designs.fasta\n",
      "273 unique sequences saved to ../results/predictions/6y97_chainL_rational_designs.fasta\n"
     ]
    }
   ],
   "source": [
    "pdb_ids = ['6vja', '6y92', '6y97']\n",
    "chain_ids = ['D', 'B', 'A']\n",
    "neighbor_chain_ids = ['I', 'D', 'L']\n",
    "target_residues_ranges = [(166, 183), (161, 183), (166, 183)]\n",
    "\n",
    "for pdb_id,chain_id,neighbor_chain_id,target_residues_range in zip(pdb_ids,chain_ids,neighbor_chain_ids,target_residues_ranges):\n",
    "\n",
    "    designer = BinderDesigner(\n",
    "        pdb_file=f\"../data/structures/{pdb_id}.pdb\",\n",
    "        chain_id=chain_id,\n",
    "        target_residues_range=target_residues_range,\n",
    "        neighbor_chain_id=neighbor_chain_id,\n",
    "        N=80,\n",
    "        num_seq=1000\n",
    "    )\n",
    "\n",
    "    designer.design_binder(f\"../results/predictions/{pdb_id}_chain{neighbor_chain_id}_rational_designs.fasta\")"
   ]
  },
  {
   "cell_type": "code",
   "execution_count": null,
   "metadata": {},
   "outputs": [],
   "source": []
  }
 ],
 "metadata": {
  "kernelspec": {
   "display_name": "bioembeddings_env",
   "language": "python",
   "name": "python3"
  },
  "language_info": {
   "codemirror_mode": {
    "name": "ipython",
    "version": 3
   },
   "file_extension": ".py",
   "mimetype": "text/x-python",
   "name": "python",
   "nbconvert_exporter": "python",
   "pygments_lexer": "ipython3",
   "version": "3.8.20"
  }
 },
 "nbformat": 4,
 "nbformat_minor": 2
}
