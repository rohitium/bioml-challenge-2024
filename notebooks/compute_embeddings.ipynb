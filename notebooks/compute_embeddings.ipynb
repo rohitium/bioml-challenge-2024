{
 "cells": [
  {
   "cell_type": "markdown",
   "metadata": {},
   "source": [
    "# Compute embeddings for designed binders"
   ]
  },
  {
   "cell_type": "markdown",
   "metadata": {},
   "source": [
    "Use ESM"
   ]
  },
  {
   "cell_type": "code",
   "execution_count": 10,
   "metadata": {},
   "outputs": [
    {
     "name": "stdout",
     "output_type": "stream",
     "text": [
      "Collecting biopython\n",
      "  Using cached biopython-1.83-cp38-cp38-macosx_11_0_arm64.whl.metadata (13 kB)\n",
      "Requirement already satisfied: numpy in /Users/rohitpro/miniconda3/envs/bioembeddings_env/lib/python3.8/site-packages (from biopython) (1.24.4)\n",
      "Downloading biopython-1.83-cp38-cp38-macosx_11_0_arm64.whl (2.7 MB)\n",
      "\u001b[2K   \u001b[90m━━━━━━━━━━━━━━━━━━━━━━━━━━━━━━━━━━━━━━━━\u001b[0m \u001b[32m2.7/2.7 MB\u001b[0m \u001b[31m881.3 kB/s\u001b[0m eta \u001b[36m0:00:00\u001b[0m \u001b[36m0:00:01\u001b[0m\n",
      "\u001b[?25hInstalling collected packages: biopython\n",
      "Successfully installed biopython-1.83\n",
      "Note: you may need to restart the kernel to use updated packages.\n"
     ]
    }
   ],
   "source": [
    "%pip install biopython"
   ]
  },
  {
   "cell_type": "code",
   "execution_count": 11,
   "metadata": {},
   "outputs": [],
   "source": [
    "import esm\n",
    "import torch\n",
    "from Bio import SeqIO"
   ]
  },
  {
   "cell_type": "code",
   "execution_count": 12,
   "metadata": {},
   "outputs": [
    {
     "data": {
      "text/plain": [
       "ESM2(\n",
       "  (embed_tokens): Embedding(33, 1280, padding_idx=1)\n",
       "  (layers): ModuleList(\n",
       "    (0-32): 33 x TransformerLayer(\n",
       "      (self_attn): MultiheadAttention(\n",
       "        (k_proj): Linear(in_features=1280, out_features=1280, bias=True)\n",
       "        (v_proj): Linear(in_features=1280, out_features=1280, bias=True)\n",
       "        (q_proj): Linear(in_features=1280, out_features=1280, bias=True)\n",
       "        (out_proj): Linear(in_features=1280, out_features=1280, bias=True)\n",
       "        (rot_emb): RotaryEmbedding()\n",
       "      )\n",
       "      (self_attn_layer_norm): LayerNorm((1280,), eps=1e-05, elementwise_affine=True)\n",
       "      (fc1): Linear(in_features=1280, out_features=5120, bias=True)\n",
       "      (fc2): Linear(in_features=5120, out_features=1280, bias=True)\n",
       "      (final_layer_norm): LayerNorm((1280,), eps=1e-05, elementwise_affine=True)\n",
       "    )\n",
       "  )\n",
       "  (contact_head): ContactPredictionHead(\n",
       "    (regression): Linear(in_features=660, out_features=1, bias=True)\n",
       "    (activation): Sigmoid()\n",
       "  )\n",
       "  (emb_layer_norm_after): LayerNorm((1280,), eps=1e-05, elementwise_affine=True)\n",
       "  (lm_head): RobertaLMHead(\n",
       "    (dense): Linear(in_features=1280, out_features=1280, bias=True)\n",
       "    (layer_norm): LayerNorm((1280,), eps=1e-05, elementwise_affine=True)\n",
       "  )\n",
       ")"
      ]
     },
     "execution_count": 12,
     "metadata": {},
     "output_type": "execute_result"
    }
   ],
   "source": [
    "model, alphabet = esm.pretrained.esm2_t33_650M_UR50D()\n",
    "model.eval()  # Disable dropout for evaluation\n"
   ]
  },
  {
   "cell_type": "code",
   "execution_count": 13,
   "metadata": {},
   "outputs": [],
   "source": [
    "batch_converter = alphabet.get_batch_converter()\n"
   ]
  },
  {
   "cell_type": "code",
   "execution_count": 14,
   "metadata": {},
   "outputs": [],
   "source": [
    "def compute_perplexity(sequence):\n",
    "    data = [(\"sequence\", sequence)]\n",
    "    batch_labels, batch_strs, batch_tokens = batch_converter(data)\n",
    "    batch_tokens = batch_tokens.to(device='cpu')\n",
    "\n",
    "    with torch.no_grad():\n",
    "        logits = model(batch_tokens, repr_layers=[], return_contacts=False)[\"logits\"]\n",
    "    loss_fct = torch.nn.CrossEntropyLoss()\n",
    "    shift_logits = logits[..., :-1, :].contiguous()\n",
    "    shift_labels = batch_tokens[..., 1:].contiguous()\n",
    "    loss = loss_fct(shift_logits.view(-1, shift_logits.size(-1)), shift_labels.view(-1))\n",
    "    perplexity = torch.exp(loss).item()\n",
    "    return perplexity\n"
   ]
  },
  {
   "cell_type": "code",
   "execution_count": 15,
   "metadata": {},
   "outputs": [],
   "source": [
    "sequences = []\n",
    "perplexities = []\n",
    "\n",
    "fasta_files = [\n",
    "    \"../results/predictions/6y92_chainD_rational_designs.fasta\",\n",
    "    \"../results/predictions/6vja_chainI_rational_designs.fasta\",\n",
    "    \"../results/predictions/6y97_chainL_rational_designs.fasta\"\n",
    "]\n",
    "\n",
    "for fasta_file in fasta_files:\n",
    "    for record in SeqIO.parse(fasta_file, \"fasta\"):\n",
    "        sequence = str(record.seq)\n",
    "        perplexity = compute_perplexity(sequence)\n",
    "        sequences.append({\n",
    "            'id': record.id,\n",
    "            'sequence': sequence,\n",
    "            'perplexity': perplexity\n",
    "        })\n"
   ]
  },
  {
   "cell_type": "code",
   "execution_count": 16,
   "metadata": {},
   "outputs": [],
   "source": [
    "sequences.sort(key=lambda x: x['perplexity'])"
   ]
  },
  {
   "cell_type": "code",
   "execution_count": 21,
   "metadata": {},
   "outputs": [
    {
     "name": "stdout",
     "output_type": "stream",
     "text": [
      "ID: 6vja_chainI_resseq_63-100, Perplexity: 41.93799591064453\n",
      "ID: 6y97_chainL_resseq_1-43, Perplexity: 56.74275207519531\n",
      "ID: 6y97_chainL_resseq_1-41, Perplexity: 61.050941467285156\n",
      "ID: 6vja_chainI_resseq_1-39, Perplexity: 64.6700210571289\n",
      "ID: 6y92_chainD_resseq_1-36, Perplexity: 81.5735855102539\n",
      "ID: 6vja_chainI_resseq_60-100, Perplexity: 84.4903564453125\n",
      "ID: 6vja_chainI_resseq_62-100, Perplexity: 95.07853698730469\n",
      "ID: 6vja_chainI_resseq_71-104, Perplexity: 96.37775421142578\n",
      "ID: 6vja_chainI_resseq_69-104, Perplexity: 108.69477844238281\n",
      "ID: 6vja_chainI_resseq_46-82, Perplexity: 117.5959243774414\n"
     ]
    }
   ],
   "source": [
    "for seq in sequences[:10]:\n",
    "    print(f\"ID: {seq['id']}, Perplexity: {seq['perplexity']}\")\n"
   ]
  },
  {
   "cell_type": "code",
   "execution_count": 22,
   "metadata": {},
   "outputs": [
    {
     "name": "stdout",
     "output_type": "stream",
     "text": [
      "Ranked sequences written to ../results/predictions/ranked_CD20_binder_designs.fasta\n"
     ]
    }
   ],
   "source": [
    "from Bio.SeqRecord import SeqRecord\n",
    "from Bio.Seq import Seq\n",
    "from Bio import SeqIO\n",
    "\n",
    "# Output file path\n",
    "output_fasta = \"../results/predictions/ranked_CD20_binder_designs.fasta\"\n",
    "\n",
    "# Create a list of SeqRecord objects with the perplexity in the sequence ID\n",
    "seq_records = []\n",
    "for seq in sequences:\n",
    "    # Create a new SeqRecord with the perplexity appended to the sequence ID\n",
    "    record = SeqRecord(\n",
    "        Seq(seq['sequence']), \n",
    "        id=f\"{seq['id']}_perplexity_{seq['perplexity']:.2f}\",  # Append perplexity to ID\n",
    "        description=\"\"  # Description can be left empty\n",
    "    )\n",
    "    seq_records.append(record)\n",
    "\n",
    "# Write all sequences to the output FASTA file\n",
    "with open(output_fasta, \"w\") as output_handle:\n",
    "    SeqIO.write(seq_records, output_handle, \"fasta\")\n",
    "\n",
    "print(f\"Ranked sequences written to {output_fasta}\")\n"
   ]
  },
  {
   "cell_type": "code",
   "execution_count": null,
   "metadata": {},
   "outputs": [],
   "source": []
  }
 ],
 "metadata": {
  "kernelspec": {
   "display_name": "Python 3",
   "language": "python",
   "name": "python3"
  },
  "language_info": {
   "codemirror_mode": {
    "name": "ipython",
    "version": 3
   },
   "file_extension": ".py",
   "mimetype": "text/x-python",
   "name": "python",
   "nbconvert_exporter": "python",
   "pygments_lexer": "ipython3",
   "version": "3.8.20"
  }
 },
 "nbformat": 4,
 "nbformat_minor": 2
}
